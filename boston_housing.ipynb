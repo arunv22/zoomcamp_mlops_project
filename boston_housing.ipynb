{
 "cells": [
  {
   "cell_type": "code",
   "execution_count": 1,
   "id": "643fb74e-55b2-4a88-9b75-af16d80be3f1",
   "metadata": {},
   "outputs": [],
   "source": [
    "import mlflow\n",
    "import pandas as pd\n",
    "import numpy as np\n",
    "import xgboost as xgb\n",
    "import os\n",
    "from sklearn.metrics import root_mean_squared_error\n",
    "from sklearn.pipeline import Pipeline\n",
    "from sklearn.compose import ColumnTransformer\n",
    "from sklearn.preprocessing import FunctionTransformer, MinMaxScaler\n",
    "from sklearn.model_selection import train_test_split\n",
    "from sklearn.ensemble import RandomForestRegressor\n",
    "from sklearn import linear_model\n",
    "import json\n"
   ]
  },
  {
   "cell_type": "code",
   "execution_count": 2,
   "id": "a923290a-0d49-41c7-9d58-5d52f08235fa",
   "metadata": {},
   "outputs": [
    {
     "name": "stdout",
     "output_type": "stream",
     "text": [
      "Experiment 'boston-housing-experiment' is already active.\n"
     ]
    }
   ],
   "source": [
    "import mlflow\n",
    "from mlflow.exceptions import MlflowException\n",
    "\n",
    "# Set tracking URI\n",
    "mlflow.set_tracking_uri(\"sqlite:///mlflow.db\")\n",
    "\n",
    "# Get the experiment details\n",
    "experiment_name = \"boston-housing-experiment\"\n",
    "experiment = mlflow.get_experiment_by_name(experiment_name)\n",
    "\n",
    "if experiment.lifecycle_stage == \"deleted\":\n",
    "    client = mlflow.tracking.MlflowClient()\n",
    "    client.restore_experiment(experiment.experiment_id)\n",
    "    print(f\"Experiment '{experiment_name}' has been restored.\")\n",
    "else:\n",
    "    print(f\"Experiment '{experiment_name}' is already active.\")\n"
   ]
  },
  {
   "cell_type": "code",
   "execution_count": 10,
   "id": "91228fdb-c380-492d-b5f2-4a05c2c84532",
   "metadata": {},
   "outputs": [],
   "source": [
    "# def preprocessing(x_train, x_test, y_train, y_test):\n",
    "#     # Apply log transformation to the target variable\n",
    "#     y_train = np.log1p(y_train)\n",
    "#     y_test = np.log1p(y_test)\n",
    "\n",
    "#     # Check skewness and apply log transformation if necessary\n",
    "#     for col in x_train.columns:\n",
    "#         if np.abs(x_train[col].skew()) > 0.3:\n",
    "#             x_train[col] = np.log1p(x_train[col])\n",
    "#             x_test[col] = np.log1p(x_test[col])\n",
    "\n",
    "#     # Fit the scaler on the training data and transform both train and test data\n",
    "#     min_max_scaler = MinMaxScaler()\n",
    "#     x_train_scaled = pd.DataFrame(data=min_max_scaler.fit_transform(x_train), columns=x_train.columns)\n",
    "#     x_test_scaled = pd.DataFrame(data=min_max_scaler.transform(x_test), columns=x_test.columns)\n",
    "\n",
    "#     return x_train_scaled, x_test_scaled, y_train, y_test\n",
    "\n",
    "# def read_dataframe(filename=\"data/housing.csv\"):\n",
    "\n",
    "#     df = pd.read_csv(filename, header=None, delimiter=r\"\\s+\", names=column_names)\n",
    "#     # Load the dataset\n",
    "#     column_names = ['CRIM', 'ZN', 'INDUS', 'CHAS', 'NOX', 'RM', 'AGE', 'DIS', 'RAD', 'TAX', 'PTRATIO', 'B', 'LSTAT', 'MEDV']\n",
    "#     # Split the dataset into train and test sets\n",
    "#     train_df, test_df = train_test_split(df, test_size=0.2, random_state=42) \n",
    "#     # Separate features and target for train and test sets\n",
    "#     x_train = train_df.loc[:, ['LSTAT', 'INDUS', 'NOX', 'PTRATIO', 'RM', 'TAX', 'DIS', 'AGE']]\n",
    "#     y_train = train_df['MEDV']\n",
    "#     x_test = test_df.loc[:, ['LSTAT', 'INDUS', 'NOX', 'PTRATIO', 'RM', 'TAX', 'DIS', 'AGE']]\n",
    "#     y_test = test_df['MEDV']\n",
    "#     # Apply preprocessing\n",
    "#     x_train_scaled, x_test_scaled, y_train, y_test = preprocessing(x_train, x_test, y_train, y_test)\n",
    "#     return x_train_scaled, x_test_scaled, y_train, y_test\n"
   ]
  },
  {
   "cell_type": "markdown",
   "id": "ff3d225d-e664-4d4f-9323-103e9ae55ed4",
   "metadata": {},
   "source": [
    "So with these analsis, we may try predict MEDV with 'LSTAT', 'INDUS', 'NOX', 'PTRATIO', 'RM', 'TAX', 'DIS', 'AGE' features. Let's try to remove the skewness of the data trough log transformation."
   ]
  },
  {
   "cell_type": "markdown",
   "id": "2388b171-2bda-4de1-a6d4-ed052514595a",
   "metadata": {},
   "source": [
    "Let's try Linear, Ridge Regression on dataset first."
   ]
  },
  {
   "cell_type": "code",
   "execution_count": 3,
   "id": "9ca4594e-4069-40c0-9b86-5f86a23cac05",
   "metadata": {},
   "outputs": [],
   "source": [
    "def load_data(url=\"https://raw.githubusercontent.com/arunv22/zoomcamp_mlops_project/main/data/housing.csv\"):\n",
    "    column_names = ['CRIM', 'ZN', 'INDUS', 'CHAS', 'NOX', 'RM', 'AGE', 'DIS', 'RAD', 'TAX', 'PTRATIO', 'B', 'LSTAT', 'MEDV']\n",
    "    df = pd.read_csv(url, header=None, delimiter=r\"\\s+\", names=column_names)\n",
    "    train_df, test_df = train_test_split(df, test_size=0.2, random_state=42)\n",
    "    \n",
    "    x_train = train_df.loc[:, ['LSTAT', 'INDUS', 'NOX', 'PTRATIO', 'RM', 'TAX', 'DIS', 'AGE']]\n",
    "    y_train = train_df['MEDV']\n",
    "    x_test = test_df.loc[:, ['LSTAT', 'INDUS', 'NOX', 'PTRATIO', 'RM', 'TAX', 'DIS', 'AGE']]\n",
    "    y_test = test_df['MEDV']\n",
    "    \n",
    "    return x_train, x_test, y_train, y_test\n",
    "\n"
   ]
  },
  {
   "cell_type": "code",
   "execution_count": 4,
   "id": "673203c0-f413-4c6b-a115-5e0f8841529f",
   "metadata": {},
   "outputs": [],
   "source": [
    "# Define a custom transformer for applying log transformation\n",
    "class LogTransformer(FunctionTransformer):\n",
    "    def __init__(self):\n",
    "        super().__init__(func=np.log1p, validate=False)\n",
    "    \n",
    "    def inverse_transform(self, X):\n",
    "        return np.expm1(X)\n"
   ]
  },
  {
   "cell_type": "code",
   "execution_count": 5,
   "id": "5dcf09f4-cd66-41b8-a55a-915305a33550",
   "metadata": {},
   "outputs": [],
   "source": [
    "def create_pipeline(model):\n",
    "    return Pipeline([\n",
    "        ('preprocessor', ColumnTransformer(\n",
    "            transformers=[\n",
    "                ('log', LogTransformer(), ['LSTAT', 'INDUS', 'NOX', 'PTRATIO', 'RM', 'TAX', 'DIS', 'AGE']),\n",
    "                ('scaler', MinMaxScaler(), ['LSTAT', 'INDUS', 'NOX', 'PTRATIO', 'RM', 'TAX', 'DIS', 'AGE'])\n",
    "            ],\n",
    "            remainder='passthrough'\n",
    "        )),\n",
    "        ('model', model)\n",
    "    ])\n"
   ]
  },
  {
   "cell_type": "code",
   "execution_count": 6,
   "id": "6208de6e-3c0f-4ed0-ba2e-175aebb36a72",
   "metadata": {},
   "outputs": [],
   "source": [
    "def train_and_log_models(x_train, y_train, x_test, y_test):\n",
    "    mlflow.set_experiment(\"boston-housing-experiment\")\n",
    "    \n",
    "    models = {\n",
    "        'Linear Regression': linear_model.LinearRegression(),\n",
    "        'Random Forest': RandomForestRegressor(n_estimators=100, random_state=42),\n",
    "        'Ridge Regression': linear_model.Ridge(alpha=0.1),\n",
    "        'XGBoost': xgb.XGBRegressor(objective='reg:squarederror', n_estimators=100, random_state=42)\n",
    "    }\n",
    "    \n",
    "    for name, model in models.items():\n",
    "        with mlflow.start_run() as run:\n",
    "            mlflow.set_tag(\"developer\", \"arun\")\n",
    "            mlflow.log_param(\"train-data-path\", \"./data/housing.csv\")\n",
    "            \n",
    "            if name == 'XGBoost':\n",
    "                model.fit(x_train, np.log1p(y_train))\n",
    "                y_pred_log = model.predict(x_test)\n",
    "            else:\n",
    "                pipeline = create_pipeline(model)\n",
    "                pipeline.fit(x_train, np.log1p(y_train))\n",
    "                y_pred_log = pipeline.predict(x_test)\n",
    "                \n",
    "            y_pred = np.expm1(y_pred_log)\n",
    "            y_test_original = np.expm1(np.log1p(y_test))\n",
    "            \n",
    "            rmse = root_mean_squared_error(y_test_original, y_pred)\n",
    "            mlflow.log_metric(\"rmse\", rmse)\n",
    "            \n",
    "            # Log the model using mlflow.sklearn or mlflow.xgboost\n",
    "            model_name = name.replace(' ', '_')\n",
    "            if name == 'XGBoost':\n",
    "                mlflow.xgboost.log_model(model, artifact_path=f\"models/{model_name}\")\n",
    "            else:\n",
    "                mlflow.sklearn.log_model(pipeline, artifact_path=f\"models/{model_name}\")\n",
    "            \n",
    "            print(f\"{name} logged with RMSE: {rmse:.2f}\")\n",
    "            print(f\"Model artifact path: runs:/{run.info.run_id}/models/{model_name}\")\n"
   ]
  },
  {
   "cell_type": "code",
   "execution_count": 7,
   "id": "dd099c62-2159-4d8f-ae19-460fa63a1b20",
   "metadata": {},
   "outputs": [],
   "source": [
    "def get_best_run_uri(experiment_name, metric_name, metric_goal='minimize'):\n",
    "    mlflow.set_tracking_uri(\"sqlite:///mlflow.db\")\n",
    "    mlflow.set_experiment(experiment_name)\n",
    "    experiment = mlflow.get_experiment_by_name(experiment_name)\n",
    "    if not experiment:\n",
    "        raise ValueError(\"Experiment not found.\")\n",
    "    \n",
    "    # Search for runs in the experiment\n",
    "    runs = mlflow.search_runs(\n",
    "        experiment_ids=[experiment.experiment_id],\n",
    "        filter_string='',\n",
    "        order_by=[f\"metrics.{metric_name} {'asc' if metric_goal == 'minimize' else 'desc'}\"]\n",
    "    )\n",
    "\n",
    "    if not runs.empty:\n",
    "        best_run = runs.iloc[0]\n",
    "        best_run_id = best_run.run_id\n",
    "        best_artifact_path = json.loads(best_run[\"tags.mlflow.log-model.history\"])[0][\"artifact_path\"]\n",
    "        logged_model_uri = f\"runs:/{best_run_id}/{best_artifact_path}\"\n",
    "        return best_run_id, logged_model_uri\n",
    "    else:\n",
    "        raise ValueError(\"No runs found for the specified experiment.\")"
   ]
  },
  {
   "cell_type": "code",
   "execution_count": 37,
   "id": "0e275e11-f8c7-4503-999c-7a3f3dd74a23",
   "metadata": {},
   "outputs": [],
   "source": [
    "def test_model(logged_model_uri, x_test, y_test):\n",
    "    try:\n",
    "        # Load model\n",
    "        loaded_model = mlflow.pyfunc.load_model(logged_model_uri)\n",
    "        \n",
    "        # Predict on test data\n",
    "        y_pred = loaded_model.predict(pd.DataFrame(x_test))\n",
    "        print(f'x_test first row:{x_test.tail(1)}')\n",
    "        print(\"******\")\n",
    "        print(y_pred)\n",
    "        print(\"******\")\n",
    "        print(y_test)\n",
    "        print(\"******\")\n",
    "        \n",
    "        # Calculate RMSE on original scale\n",
    "        rmse = np.sqrt(root_mean_squared_error(y_test, y_pred))\n",
    "        print(f\"RMSE for best model selected: {rmse:.2f}\")\n",
    "        \n",
    "        return {\"rmse\": rmse}\n",
    "    except Exception as e:\n",
    "        print(f\"Error loading model from {logged_model_uri}: {e}\")\n",
    "\n",
    "\n"
   ]
  },
  {
   "cell_type": "code",
   "execution_count": 30,
   "id": "79225e0a-39a4-40ff-8a3a-36e8ec9c6e13",
   "metadata": {},
   "outputs": [
    {
     "data": {
      "text/plain": [
       "'runs:/ec53532a97e74b2eb5c4a1eeb6834be2/models/Random_Forest'"
      ]
     },
     "execution_count": 30,
     "metadata": {},
     "output_type": "execute_result"
    }
   ],
   "source": [
    "logged_model_uri"
   ]
  },
  {
   "cell_type": "code",
   "execution_count": 9,
   "id": "d61b1a7a-41e3-4220-9933-46bce47eec57",
   "metadata": {},
   "outputs": [
    {
     "name": "stdout",
     "output_type": "stream",
     "text": [
      "Linear Regression logged with RMSE: 4.10\n",
      "Model artifact path: runs:/e15c55606382490aa45da34c4a340f9d/models/Linear_Regression\n"
     ]
    },
    {
     "name": "stderr",
     "output_type": "stream",
     "text": [
      "C:\\Users\\arunv\\zoomcamp_mlops_project\\venv\\lib\\site-packages\\_distutils_hack\\__init__.py:11: UserWarning: Distutils was imported before Setuptools, but importing Setuptools also replaces the `distutils` module in `sys.modules`. This may lead to undesirable behaviors or errors. To avoid these issues, avoid using distutils directly, ensure that setuptools is installed in the traditional way (e.g. not an editable install), and/or make sure that setuptools is always imported before distutils.\n",
      "  warnings.warn(\n",
      "C:\\Users\\arunv\\zoomcamp_mlops_project\\venv\\lib\\site-packages\\_distutils_hack\\__init__.py:26: UserWarning: Setuptools is replacing distutils.\n",
      "  warnings.warn(\"Setuptools is replacing distutils.\")\n"
     ]
    },
    {
     "name": "stdout",
     "output_type": "stream",
     "text": [
      "Random Forest logged with RMSE: 3.00\n",
      "Model artifact path: runs:/ec53532a97e74b2eb5c4a1eeb6834be2/models/Random_Forest\n"
     ]
    },
    {
     "name": "stderr",
     "output_type": "stream",
     "text": [
      "C:\\Users\\arunv\\zoomcamp_mlops_project\\venv\\lib\\site-packages\\_distutils_hack\\__init__.py:11: UserWarning: Distutils was imported before Setuptools, but importing Setuptools also replaces the `distutils` module in `sys.modules`. This may lead to undesirable behaviors or errors. To avoid these issues, avoid using distutils directly, ensure that setuptools is installed in the traditional way (e.g. not an editable install), and/or make sure that setuptools is always imported before distutils.\n",
      "  warnings.warn(\n",
      "C:\\Users\\arunv\\zoomcamp_mlops_project\\venv\\lib\\site-packages\\_distutils_hack\\__init__.py:26: UserWarning: Setuptools is replacing distutils.\n",
      "  warnings.warn(\"Setuptools is replacing distutils.\")\n"
     ]
    },
    {
     "name": "stdout",
     "output_type": "stream",
     "text": [
      "Ridge Regression logged with RMSE: 4.25\n",
      "Model artifact path: runs:/e0f8657d73134008afa58e3c8cc1ca71/models/Ridge_Regression\n"
     ]
    },
    {
     "name": "stderr",
     "output_type": "stream",
     "text": [
      "C:\\Users\\arunv\\zoomcamp_mlops_project\\venv\\lib\\site-packages\\xgboost\\core.py:158: UserWarning: [17:48:04] WARNING: C:\\buildkite-agent\\builds\\buildkite-windows-cpu-autoscaling-group-i-06abd128ca6c1688d-1\\xgboost\\xgboost-ci-windows\\src\\c_api\\c_api.cc:1374: Saving model in the UBJSON format as default.  You can use file extension: `json`, `ubj` or `deprecated` to choose between formats.\n",
      "  warnings.warn(smsg, UserWarning)\n",
      "C:\\Users\\arunv\\zoomcamp_mlops_project\\venv\\lib\\site-packages\\_distutils_hack\\__init__.py:11: UserWarning: Distutils was imported before Setuptools, but importing Setuptools also replaces the `distutils` module in `sys.modules`. This may lead to undesirable behaviors or errors. To avoid these issues, avoid using distutils directly, ensure that setuptools is installed in the traditional way (e.g. not an editable install), and/or make sure that setuptools is always imported before distutils.\n",
      "  warnings.warn(\n",
      "C:\\Users\\arunv\\zoomcamp_mlops_project\\venv\\lib\\site-packages\\_distutils_hack\\__init__.py:26: UserWarning: Setuptools is replacing distutils.\n",
      "  warnings.warn(\"Setuptools is replacing distutils.\")\n"
     ]
    },
    {
     "name": "stdout",
     "output_type": "stream",
     "text": [
      "XGBoost logged with RMSE: 3.54\n",
      "Model artifact path: runs:/08f4a9caa97848c7b0c51fddaf3c958a/models/XGBoost\n",
      "Best Model Run ID: ec53532a97e74b2eb5c4a1eeb6834be2\n",
      "Best Model URI: runs:/ec53532a97e74b2eb5c4a1eeb6834be2/models/Random_Forest\n",
      "Error loading model from runs:/ec53532a97e74b2eb5c4a1eeb6834be2/models/Random_Forest: name 'root_mean' is not defined\n",
      "None\n"
     ]
    }
   ],
   "source": [
    "# Load data\n",
    "x_train, x_test, y_train, y_test = load_data()\n",
    "\n",
    "# Train and log models\n",
    "train_and_log_models(x_train, y_train, x_test, y_test)\n",
    "\n",
    "# Fetch the best model URI and test\n",
    "experiment_name = \"boston-housing-experiment\"\n",
    "metric_name = \"rmse\"\n",
    "run_id, logged_model_uri = get_best_run_uri(experiment_name, metric_name)\n",
    "\n",
    "print(f\"Best Model Run ID: {run_id}\")\n",
    "print(f\"Best Model URI: {logged_model_uri}\")\n",
    "\n"
   ]
  },
  {
   "cell_type": "code",
   "execution_count": 38,
   "id": "339ffb3e-bd1b-45be-8bcc-1fe91a2e0377",
   "metadata": {},
   "outputs": [
    {
     "name": "stdout",
     "output_type": "stream",
     "text": [
      "x_test first row:    LSTAT  INDUS    NOX  PTRATIO     RM    TAX     DIS   AGE\n",
      "75   8.94  12.83  0.437     18.7  6.286  398.0  4.5026  45.0\n",
      "******\n",
      "[3.17314089 3.45087576 2.76276047 3.18285768 2.72964882 3.09453619\n",
      " 2.97822443 2.77680446 3.07097259 3.08663772 3.01184286 2.96690352\n",
      " 2.26903896 3.11557722 2.99929202 3.32994157 2.98072454 2.25853412\n",
      " 3.86508423 2.74378273 3.23815603 3.23133083 2.73762392 3.16863007\n",
      " 2.68233033 2.77344311 3.10625546 2.78095851 3.02356069 3.07795693\n",
      " 3.00068813 3.19294452 3.51837611 3.01598395 2.66784189 2.79470007\n",
      " 3.57011756 3.00797106 3.09308345 3.23245108 2.95264735 3.42401718\n",
      " 3.86734815 2.97430415 3.16155045 2.72921829 2.79336388 3.23264316\n",
      " 2.89529214 3.37191871 3.09570134 3.58748767 2.8446581  3.28735454\n",
      " 3.81640617 3.12360743 2.78962417 3.50025094 3.16277102 3.00820203\n",
      " 3.2668612  3.55551292 3.37580004 2.98958591 3.3075351  2.90779616\n",
      " 2.67966415 3.18317764 3.37355151 2.84567092 3.05998591 3.32217376\n",
      " 2.48530019 3.09525834 3.13935336 2.104712   3.04698445 3.86683026\n",
      " 2.51802398 2.48996168 3.09186445 2.54115784 3.08520745 2.29853234\n",
      " 3.08870381 3.33386788 2.7636557  3.18827745 3.2295333  2.88662505\n",
      " 3.14453185 2.18464601 3.02647238 2.98512011 3.12581874 3.03168111\n",
      " 3.73047113 2.58173553 2.75209489 2.69354669 3.06463689 3.20040285]\n",
      "******\n",
      "173    23.6\n",
      "274    32.4\n",
      "491    13.6\n",
      "72     22.8\n",
      "452    16.1\n",
      "       ... \n",
      "412    17.9\n",
      "436     9.6\n",
      "411    17.2\n",
      "86     22.5\n",
      "75     21.4\n",
      "Name: MEDV, Length: 102, dtype: float64\n",
      "******\n",
      "RMSE for best model selected: 4.50\n",
      "{'rmse': 4.495682308400218}\n"
     ]
    }
   ],
   "source": [
    "# file:///C:/Users/arunv/zoomcamp_mlops_project/mlruns/1/ec53532a97e74b2eb5c4a1eeb6834be2/artifacts/models/Random_Forest\n",
    "# Test the best model\n",
    "results = test_model(logged_model_uri, x_test, y_test)\n",
    "print(results)\n"
   ]
  },
  {
   "cell_type": "code",
   "execution_count": 20,
   "id": "c15d1810-e26d-42ec-afd3-f5bd6bc077ab",
   "metadata": {},
   "outputs": [],
   "source": [
    "def register_and_promote_model(run_id, model_name, stage=\"Production\"):\n",
    "    model_uri = f\"runs:/{run_id}/models/{model_name}\"\n",
    "    registered_model_name = model_name.replace(\"_\", \"-\").lower()\n",
    "\n",
    "    # Register the model\n",
    "    model_version = mlflow.register_model(model_uri, registered_model_name)\n",
    "\n",
    "    # Transition model to specified stage\n",
    "    client = mlflow.tracking.MlflowClient()\n",
    "    client.transition_model_version_stage(\n",
    "        name=registered_model_name,\n",
    "        version=model_version.version,\n",
    "        stage=stage\n",
    "    )\n",
    "    \n",
    "    return registered_model_name, model_version.version"
   ]
  },
  {
   "cell_type": "code",
   "execution_count": 21,
   "id": "2b574c96-b5e5-43b6-a627-0428de6ba5a4",
   "metadata": {},
   "outputs": [
    {
     "name": "stdout",
     "output_type": "stream",
     "text": [
      "Registered Model Name: random-forest\n",
      "Model Version: 5\n"
     ]
    },
    {
     "name": "stderr",
     "output_type": "stream",
     "text": [
      "Registered model 'random-forest' already exists. Creating a new version of this model...\n",
      "Created version '5' of model 'random-forest'.\n",
      "C:\\Users\\arunv\\AppData\\Local\\Temp\\ipykernel_12756\\1989536983.py:10: FutureWarning: ``mlflow.tracking.client.MlflowClient.transition_model_version_stage`` is deprecated since 2.9.0. Model registry stages will be removed in a future major release. To learn more about the deprecation of model registry stages, see our migration guide here: https://mlflow.org/docs/2.12.1/model-registry.html#migrating-from-stages\n",
      "  client.transition_model_version_stage(\n"
     ]
    }
   ],
   "source": [
    "# Register and promote the best model\n",
    "model_name = logged_model_uri.split('/')[-1]\n",
    "registered_model_name, model_version = register_and_promote_model(run_id, model_name)\n",
    "print(f\"Registered Model Name: {registered_model_name}\")\n",
    "print(f\"Model Version: {model_version}\")\n"
   ]
  },
  {
   "cell_type": "code",
   "execution_count": 26,
   "id": "1f469b36-f090-4f4b-aad4-ccde682914d5",
   "metadata": {},
   "outputs": [
    {
     "data": {
      "text/plain": [
       "'Random_Forest'"
      ]
     },
     "execution_count": 26,
     "metadata": {},
     "output_type": "execute_result"
    }
   ],
   "source": [
    "model_name"
   ]
  },
  {
   "cell_type": "code",
   "execution_count": 25,
   "id": "11ede801-306e-45e3-9266-394ab53a04bb",
   "metadata": {},
   "outputs": [
    {
     "name": "stdout",
     "output_type": "stream",
     "text": [
      "local path:models\\R\n"
     ]
    },
    {
     "data": {
      "application/vnd.jupyter.widget-view+json": {
       "model_id": "e49f78db186e4b5d828c85606e54668b",
       "version_major": 2,
       "version_minor": 0
      },
      "text/plain": [
       "Downloading artifacts:   0%|          | 0/1 [00:00<?, ?it/s]"
      ]
     },
     "metadata": {},
     "output_type": "display_data"
    },
    {
     "ename": "MlflowException",
     "evalue": "The following failures occurred while downloading one or more artifacts from file:///C:/Users/arunv/zoomcamp_mlops_project/mlruns/1/ec53532a97e74b2eb5c4a1eeb6834be2/artifacts:\n##### File models/R/ #####\n[Errno 2] No such file or directory: 'C:\\\\Users\\\\arunv\\\\zoomcamp_mlops_project\\\\mlruns\\\\1\\\\ec53532a97e74b2eb5c4a1eeb6834be2\\\\artifacts\\\\models\\\\R'",
     "output_type": "error",
     "traceback": [
      "\u001b[1;31m---------------------------------------------------------------------------\u001b[0m",
      "\u001b[1;31mMlflowException\u001b[0m                           Traceback (most recent call last)",
      "Cell \u001b[1;32mIn[25], line 16\u001b[0m\n\u001b[0;32m     12\u001b[0m         \u001b[38;5;28mprint\u001b[39m(\u001b[38;5;124mf\u001b[39m\u001b[38;5;124m\"\u001b[39m\u001b[38;5;124mDownloaded \u001b[39m\u001b[38;5;132;01m{\u001b[39;00mmodel_name\u001b[38;5;132;01m}\u001b[39;00m\u001b[38;5;124m to local path: /n\u001b[39m\u001b[38;5;132;01m{\u001b[39;00mlocal_path\u001b[38;5;132;01m}\u001b[39;00m\u001b[38;5;124m\"\u001b[39m)\n\u001b[0;32m     15\u001b[0m \u001b[38;5;66;03m# # Download all models trained\u001b[39;00m\n\u001b[1;32m---> 16\u001b[0m \u001b[43mdownload_models\u001b[49m\u001b[43m(\u001b[49m\u001b[43mrun_id\u001b[49m\u001b[43m,\u001b[49m\u001b[43m \u001b[49m\u001b[43mmodel_name\u001b[49m\u001b[43m)\u001b[49m\n",
      "Cell \u001b[1;32mIn[25], line 11\u001b[0m, in \u001b[0;36mdownload_models\u001b[1;34m(run_id, model_names, output_dir)\u001b[0m\n\u001b[0;32m      9\u001b[0m \u001b[38;5;28mprint\u001b[39m(\u001b[38;5;124mf\u001b[39m\u001b[38;5;124m'\u001b[39m\u001b[38;5;124mlocal path:\u001b[39m\u001b[38;5;132;01m{\u001b[39;00mlocal_path\u001b[38;5;132;01m}\u001b[39;00m\u001b[38;5;124m'\u001b[39m)\n\u001b[0;32m     10\u001b[0m os\u001b[38;5;241m.\u001b[39mmakedirs(local_path, exist_ok\u001b[38;5;241m=\u001b[39m\u001b[38;5;28;01mTrue\u001b[39;00m)\n\u001b[1;32m---> 11\u001b[0m \u001b[43mclient\u001b[49m\u001b[38;5;241;43m.\u001b[39;49m\u001b[43mdownload_artifacts\u001b[49m\u001b[43m(\u001b[49m\u001b[43mrun_id\u001b[49m\u001b[43m,\u001b[49m\u001b[43m \u001b[49m\u001b[43martifact_path\u001b[49m\u001b[43m,\u001b[49m\u001b[43m \u001b[49m\u001b[43mlocal_path\u001b[49m\u001b[43m)\u001b[49m\n\u001b[0;32m     12\u001b[0m \u001b[38;5;28mprint\u001b[39m(\u001b[38;5;124mf\u001b[39m\u001b[38;5;124m\"\u001b[39m\u001b[38;5;124mDownloaded \u001b[39m\u001b[38;5;132;01m{\u001b[39;00mmodel_name\u001b[38;5;132;01m}\u001b[39;00m\u001b[38;5;124m to local path: /n\u001b[39m\u001b[38;5;132;01m{\u001b[39;00mlocal_path\u001b[38;5;132;01m}\u001b[39;00m\u001b[38;5;124m\"\u001b[39m)\n",
      "File \u001b[1;32m~\\zoomcamp_mlops_project\\venv\\lib\\site-packages\\mlflow\\tracking\\client.py:2083\u001b[0m, in \u001b[0;36mMlflowClient.download_artifacts\u001b[1;34m(self, run_id, path, dst_path)\u001b[0m\n\u001b[0;32m   2036\u001b[0m \u001b[38;5;28;01mdef\u001b[39;00m \u001b[38;5;21mdownload_artifacts\u001b[39m(\u001b[38;5;28mself\u001b[39m, run_id: \u001b[38;5;28mstr\u001b[39m, path: \u001b[38;5;28mstr\u001b[39m, dst_path: Optional[\u001b[38;5;28mstr\u001b[39m] \u001b[38;5;241m=\u001b[39m \u001b[38;5;28;01mNone\u001b[39;00m) \u001b[38;5;241m-\u001b[39m\u001b[38;5;241m>\u001b[39m \u001b[38;5;28mstr\u001b[39m:\n\u001b[0;32m   2037\u001b[0m \u001b[38;5;250m    \u001b[39m\u001b[38;5;124;03m\"\"\"\u001b[39;00m\n\u001b[0;32m   2038\u001b[0m \u001b[38;5;124;03m    Download an artifact file or directory from a run to a local directory if applicable,\u001b[39;00m\n\u001b[0;32m   2039\u001b[0m \u001b[38;5;124;03m    and return a local path for it.\u001b[39;00m\n\u001b[1;32m   (...)\u001b[0m\n\u001b[0;32m   2081\u001b[0m \u001b[38;5;124;03m        Artifacts: ['features.txt']\u001b[39;00m\n\u001b[0;32m   2082\u001b[0m \u001b[38;5;124;03m    \"\"\"\u001b[39;00m\n\u001b[1;32m-> 2083\u001b[0m     \u001b[38;5;28;01mreturn\u001b[39;00m \u001b[38;5;28;43mself\u001b[39;49m\u001b[38;5;241;43m.\u001b[39;49m\u001b[43m_tracking_client\u001b[49m\u001b[38;5;241;43m.\u001b[39;49m\u001b[43mdownload_artifacts\u001b[49m\u001b[43m(\u001b[49m\u001b[43mrun_id\u001b[49m\u001b[43m,\u001b[49m\u001b[43m \u001b[49m\u001b[43mpath\u001b[49m\u001b[43m,\u001b[49m\u001b[43m \u001b[49m\u001b[43mdst_path\u001b[49m\u001b[43m)\u001b[49m\n",
      "File \u001b[1;32m~\\zoomcamp_mlops_project\\venv\\lib\\site-packages\\mlflow\\tracking\\_tracking_service\\client.py:603\u001b[0m, in \u001b[0;36mTrackingServiceClient.download_artifacts\u001b[1;34m(self, run_id, path, dst_path)\u001b[0m\n\u001b[0;32m    586\u001b[0m \u001b[38;5;28;01mdef\u001b[39;00m \u001b[38;5;21mdownload_artifacts\u001b[39m(\u001b[38;5;28mself\u001b[39m, run_id, path, dst_path\u001b[38;5;241m=\u001b[39m\u001b[38;5;28;01mNone\u001b[39;00m):\n\u001b[0;32m    587\u001b[0m \u001b[38;5;250m    \u001b[39m\u001b[38;5;124;03m\"\"\"Download an artifact file or directory from a run to a local directory if applicable,\u001b[39;00m\n\u001b[0;32m    588\u001b[0m \u001b[38;5;124;03m    and return a local path for it.\u001b[39;00m\n\u001b[0;32m    589\u001b[0m \n\u001b[1;32m   (...)\u001b[0m\n\u001b[0;32m    601\u001b[0m \n\u001b[0;32m    602\u001b[0m \u001b[38;5;124;03m    \"\"\"\u001b[39;00m\n\u001b[1;32m--> 603\u001b[0m     \u001b[38;5;28;01mreturn\u001b[39;00m \u001b[38;5;28;43mself\u001b[39;49m\u001b[38;5;241;43m.\u001b[39;49m\u001b[43m_get_artifact_repo\u001b[49m\u001b[43m(\u001b[49m\u001b[43mrun_id\u001b[49m\u001b[43m)\u001b[49m\u001b[38;5;241;43m.\u001b[39;49m\u001b[43mdownload_artifacts\u001b[49m\u001b[43m(\u001b[49m\u001b[43mpath\u001b[49m\u001b[43m,\u001b[49m\u001b[43m \u001b[49m\u001b[43mdst_path\u001b[49m\u001b[43m)\u001b[49m\n",
      "File \u001b[1;32m~\\zoomcamp_mlops_project\\venv\\lib\\site-packages\\mlflow\\store\\artifact\\local_artifact_repo.py:79\u001b[0m, in \u001b[0;36mLocalArtifactRepository.download_artifacts\u001b[1;34m(self, artifact_path, dst_path)\u001b[0m\n\u001b[0;32m     64\u001b[0m \u001b[38;5;250m\u001b[39m\u001b[38;5;124;03m\"\"\"\u001b[39;00m\n\u001b[0;32m     65\u001b[0m \u001b[38;5;124;03mArtifacts tracked by ``LocalArtifactRepository`` already exist on the local filesystem.\u001b[39;00m\n\u001b[0;32m     66\u001b[0m \u001b[38;5;124;03mIf ``dst_path`` is ``None``, the absolute filesystem path of the specified artifact is\u001b[39;00m\n\u001b[1;32m   (...)\u001b[0m\n\u001b[0;32m     76\u001b[0m \u001b[38;5;124;03m    Absolute path of the local filesystem location containing the desired artifacts.\u001b[39;00m\n\u001b[0;32m     77\u001b[0m \u001b[38;5;124;03m\"\"\"\u001b[39;00m\n\u001b[0;32m     78\u001b[0m \u001b[38;5;28;01mif\u001b[39;00m dst_path:\n\u001b[1;32m---> 79\u001b[0m     \u001b[38;5;28;01mreturn\u001b[39;00m \u001b[38;5;28;43msuper\u001b[39;49m\u001b[43m(\u001b[49m\u001b[43m)\u001b[49m\u001b[38;5;241;43m.\u001b[39;49m\u001b[43mdownload_artifacts\u001b[49m\u001b[43m(\u001b[49m\u001b[43martifact_path\u001b[49m\u001b[43m,\u001b[49m\u001b[43m \u001b[49m\u001b[43mdst_path\u001b[49m\u001b[43m)\u001b[49m\n\u001b[0;32m     80\u001b[0m \u001b[38;5;66;03m# NOTE: The artifact_path is expected to be a relative path in posix format.\u001b[39;00m\n\u001b[0;32m     81\u001b[0m \u001b[38;5;66;03m# Posix paths work fine on windows but just in case we normalize it here.\u001b[39;00m\n\u001b[0;32m     82\u001b[0m artifact_path \u001b[38;5;241m=\u001b[39m validate_path_is_safe(artifact_path)\n",
      "File \u001b[1;32m~\\zoomcamp_mlops_project\\venv\\lib\\site-packages\\mlflow\\store\\artifact\\artifact_repo.py:230\u001b[0m, in \u001b[0;36mArtifactRepository.download_artifacts\u001b[1;34m(self, artifact_path, dst_path)\u001b[0m\n\u001b[0;32m    226\u001b[0m     template \u001b[38;5;241m=\u001b[39m \u001b[38;5;124m\"\u001b[39m\u001b[38;5;124m##### File \u001b[39m\u001b[38;5;132;01m{path}\u001b[39;00m\u001b[38;5;124m #####\u001b[39m\u001b[38;5;130;01m\\n\u001b[39;00m\u001b[38;5;132;01m{error}\u001b[39;00m\u001b[38;5;124m\"\u001b[39m\n\u001b[0;32m    227\u001b[0m     failures \u001b[38;5;241m=\u001b[39m \u001b[38;5;124m\"\u001b[39m\u001b[38;5;130;01m\\n\u001b[39;00m\u001b[38;5;124m\"\u001b[39m\u001b[38;5;241m.\u001b[39mjoin(\n\u001b[0;32m    228\u001b[0m         template\u001b[38;5;241m.\u001b[39mformat(path\u001b[38;5;241m=\u001b[39mpath, error\u001b[38;5;241m=\u001b[39merror) \u001b[38;5;28;01mfor\u001b[39;00m path, error \u001b[38;5;129;01min\u001b[39;00m failed_downloads\u001b[38;5;241m.\u001b[39mitems()\n\u001b[0;32m    229\u001b[0m     )\n\u001b[1;32m--> 230\u001b[0m     \u001b[38;5;28;01mraise\u001b[39;00m MlflowException(\n\u001b[0;32m    231\u001b[0m         message\u001b[38;5;241m=\u001b[39m(\n\u001b[0;32m    232\u001b[0m             \u001b[38;5;124m\"\u001b[39m\u001b[38;5;124mThe following failures occurred while downloading one or more\u001b[39m\u001b[38;5;124m\"\u001b[39m\n\u001b[0;32m    233\u001b[0m             \u001b[38;5;124mf\u001b[39m\u001b[38;5;124m\"\u001b[39m\u001b[38;5;124m artifacts from \u001b[39m\u001b[38;5;132;01m{\u001b[39;00m\u001b[38;5;28mself\u001b[39m\u001b[38;5;241m.\u001b[39martifact_uri\u001b[38;5;132;01m}\u001b[39;00m\u001b[38;5;124m:\u001b[39m\u001b[38;5;130;01m\\n\u001b[39;00m\u001b[38;5;132;01m{\u001b[39;00m_truncate_error(failures)\u001b[38;5;132;01m}\u001b[39;00m\u001b[38;5;124m\"\u001b[39m\n\u001b[0;32m    234\u001b[0m         )\n\u001b[0;32m    235\u001b[0m     )\n\u001b[0;32m    237\u001b[0m \u001b[38;5;28;01mreturn\u001b[39;00m os\u001b[38;5;241m.\u001b[39mpath\u001b[38;5;241m.\u001b[39mjoin(dst_path, artifact_path)\n",
      "\u001b[1;31mMlflowException\u001b[0m: The following failures occurred while downloading one or more artifacts from file:///C:/Users/arunv/zoomcamp_mlops_project/mlruns/1/ec53532a97e74b2eb5c4a1eeb6834be2/artifacts:\n##### File models/R/ #####\n[Errno 2] No such file or directory: 'C:\\\\Users\\\\arunv\\\\zoomcamp_mlops_project\\\\mlruns\\\\1\\\\ec53532a97e74b2eb5c4a1eeb6834be2\\\\artifacts\\\\models\\\\R'"
     ]
    }
   ],
   "source": [
    "# file:///C:/Users/arunv/zoomcamp_mlops_project/mlruns/1/ec53532a97e74b2eb5c4a1eeb6834be2/artifacts/models/Random_Forest/MLmodel\n",
    "def download_models(run_id, model_names, output_dir=\"models\"):\n",
    "    os.makedirs(output_dir, exist_ok=True)\n",
    "    client = mlflow.tracking.MlflowClient()\n",
    "    \n",
    "    for model_name in model_names:\n",
    "        artifact_path = f\"models/{model_name}/\"\n",
    "        local_path = os.path.join(output_dir, model_name)\n",
    "        print(f'local path:{local_path}')\n",
    "        os.makedirs(local_path, exist_ok=True)\n",
    "        client.download_artifacts(run_id, artifact_path, local_path)\n",
    "        print(f\"Downloaded {model_name} to local path: /n{local_path}\")\n",
    "\n",
    "\n",
    "# # Download all models trained\n",
    "download_models(run_id, model_name)\n"
   ]
  },
  {
   "cell_type": "code",
   "execution_count": 29,
   "id": "a85fae7d-80fa-4faa-bf52-7476652dbd5e",
   "metadata": {},
   "outputs": [
    {
     "data": {
      "text/plain": [
       "'ec53532a97e74b2eb5c4a1eeb6834be2'"
      ]
     },
     "execution_count": 29,
     "metadata": {},
     "output_type": "execute_result"
    }
   ],
   "source": [
    "run_id"
   ]
  },
  {
   "cell_type": "code",
   "execution_count": 49,
   "id": "f05eeef0-11ce-4b5a-a89a-94a0d9197969",
   "metadata": {},
   "outputs": [
    {
     "data": {
      "text/plain": [
       "{'LSTAT': 8.94,\n",
       " 'INDUS': 12.83,\n",
       " 'NOX': 0.437,\n",
       " 'PTRATIO': 18.7,\n",
       " 'RM': 6.286,\n",
       " 'TAX': 398.0,\n",
       " 'DIS': 4.5026,\n",
       " 'AGE': 45.0}"
      ]
     },
     "execution_count": 49,
     "metadata": {},
     "output_type": "execute_result"
    }
   ],
   "source": [
    "x_test.iloc[-1,:].to_dict()"
   ]
  },
  {
   "cell_type": "code",
   "execution_count": 31,
   "id": "ff54345e-5ef0-4a8d-a5d6-13cc62b19a9a",
   "metadata": {},
   "outputs": [
    {
     "data": {
      "text/plain": [
       "173    23.6\n",
       "Name: MEDV, dtype: float64"
      ]
     },
     "execution_count": 31,
     "metadata": {},
     "output_type": "execute_result"
    }
   ],
   "source": []
  },
  {
   "cell_type": "code",
   "execution_count": 76,
   "id": "73e01ae9-5968-4884-bfd5-c322173ad5c1",
   "metadata": {},
   "outputs": [
    {
     "name": "stderr",
     "output_type": "stream",
     "text": [
      "C:\\Users\\arunv\\AppData\\Local\\Temp\\ipykernel_15128\\406917444.py:1: FutureWarning: ``mlflow.tracking.client.MlflowClient.transition_model_version_stage`` is deprecated since 2.9.0. Model registry stages will be removed in a future major release. To learn more about the deprecation of model registry stages, see our migration guide here: https://mlflow.org/docs/latest/model-registry.html#migrating-from-stages\n",
      "  client.transition_model_version_stage(\n"
     ]
    },
    {
     "data": {
      "text/plain": [
       "<ModelVersion: aliases=[], creation_timestamp=1720605968257, current_stage='Production', description='', last_updated_timestamp=1720610422305, name='boston_housing_xgboost', run_id='3732dd5781ce4d129b4a4436be05de19', run_link='', source='file:///C:/Projects/zoomcamp_mlops_project/mlruns/1/3732dd5781ce4d129b4a4436be05de19/artifacts/model', status='READY', status_message=None, tags={}, user_id=None, version=2>"
      ]
     },
     "execution_count": 76,
     "metadata": {},
     "output_type": "execute_result"
    }
   ],
   "source": [
    "# client.transition_model_version_stage(\n",
    "#     name = 'boston_housing_models',\n",
    "#     version = 1,\n",
    "#     stage='Production',\n",
    "#     archive_existing_versions=True\n",
    "# )\n",
    "    "
   ]
  },
  {
   "cell_type": "code",
   "execution_count": 5,
   "id": "6a76ded0-cf21-4222-8877-e6ce278ed5bf",
   "metadata": {},
   "outputs": [
    {
     "name": "stdout",
     "output_type": "stream",
     "text": [
      "Model Name: boston_housing_models\n",
      "  Version: 4, Stage: None\n",
      "  Version: 3, Stage: Production\n"
     ]
    }
   ],
   "source": [
    "# import mlflow\n",
    "# from mlflow.tracking import MlflowClient\n",
    "# MLFLOW_TRACKING_URI = \"sqlite:///mlflow.db\"\n",
    "# # Initialize the MLflow client\n",
    "# client = MlflowClient(tracking_uri = MLFLOW_TRACKING_URI)\n",
    "\n",
    "# # List all registered models using search_registered_models\n",
    "# models = client.search_registered_models()\n",
    "\n",
    "# # Print the registered models and their versions\n",
    "# for model in models:\n",
    "#     print(f\"Model Name: {model.name}\")\n",
    "#     for version in model.latest_versions:\n",
    "#         print(f\"  Version: {version.version}, Stage: {version.current_stage}\")\n"
   ]
  },
  {
   "cell_type": "code",
   "execution_count": null,
   "id": "18ac8bbe-cc9b-4d09-84cc-7074d3f37bf3",
   "metadata": {},
   "outputs": [],
   "source": []
  },
  {
   "cell_type": "code",
   "execution_count": 6,
   "id": "f43eda73-45b1-4d45-ae86-125d63603bda",
   "metadata": {},
   "outputs": [
    {
     "name": "stdout",
     "output_type": "stream",
     "text": [
      "Experiment ID: 1, Name: boston-housing-experiment\n",
      "Experiment ID: 0, Name: Default\n"
     ]
    }
   ],
   "source": [
    "# # List all experiments\n",
    "# experiments = mlflow.search_experiments()\n",
    "\n",
    "# # Print out the experiments\n",
    "# for experiment in experiments:\n",
    "#     print(f\"Experiment ID: {experiment.experiment_id}, Name: {experiment.name}\")"
   ]
  },
  {
   "cell_type": "code",
   "execution_count": 50,
   "id": "b878fa87-d548-41ed-8f6b-a8022ec97f16",
   "metadata": {},
   "outputs": [
    {
     "name": "stdout",
     "output_type": "stream",
     "text": [
      "run id: ec53532a97e74b2eb5c4a1eeb6834be2, rmse: 3.0005\n",
      "run id: 08f4a9caa97848c7b0c51fddaf3c958a, rmse: 3.5355\n",
      "run id: e15c55606382490aa45da34c4a340f9d, rmse: 4.0983\n",
      "run id: e0f8657d73134008afa58e3c8cc1ca71, rmse: 4.2489\n"
     ]
    }
   ],
   "source": [
    "from mlflow.entities import ViewType\n",
    "from mlflow.tracking import MlflowClient\n",
    "\n",
    "# Initialize the MLflow client\n",
    "client = MlflowClient()\n",
    "\n",
    "# Define the experiment ID\n",
    "experiment_id = '1'\n",
    "\n",
    "# Search runs\n",
    "runs = client.search_runs(\n",
    "    experiment_ids=[experiment_id],  # Note: experiment_ids should be a list\n",
    "    filter_string=\"\",  # No filter, get all runs\n",
    "    run_view_type=ViewType.ACTIVE_ONLY,\n",
    "    max_results=5,\n",
    "    order_by=[\"metrics.rmse ASC\"]  # Note: order_by should be a list\n",
    ")\n",
    "\n",
    "# Print the runs with their RMSE values\n",
    "for run in runs:\n",
    "    print(f\"run id: {run.info.run_id}, rmse: {run.data.metrics['rmse']:.4f}\")\n",
    "\n",
    "\n",
    "MLFLOW_TRACKING_URI = \"sqlite:///mlflow.db\"\n",
    "\n",
    "client = MlflowClient(tracking_uri=MLFLOW_TRACKING_URI)\n"
   ]
  },
  {
   "cell_type": "code",
   "execution_count": 65,
   "id": "43fec4f7-0374-4666-9120-4993a790e38a",
   "metadata": {},
   "outputs": [
    {
     "name": "stdout",
     "output_type": "stream",
     "text": [
      "Temporary download path created: temp_model_download\n",
      "Artifact path: models/Random_Forest\n"
     ]
    },
    {
     "data": {
      "application/vnd.jupyter.widget-view+json": {
       "model_id": "84a129f28e1e4280b30531a3ec794111",
       "version_major": 2,
       "version_minor": 0
      },
      "text/plain": [
       "Downloading artifacts:   0%|          | 0/9 [00:00<?, ?it/s]"
      ]
     },
     "metadata": {},
     "output_type": "display_data"
    },
    {
     "name": "stdout",
     "output_type": "stream",
     "text": [
      "Model artifacts downloaded to temp_model_download\n",
      "Model .pkl file moved to model.pkl\n",
      "Temporary download path cleaned up\n"
     ]
    }
   ],
   "source": [
    "from mlflow.tracking import MlflowClient\n",
    "import os\n",
    "import shutil\n",
    "\n",
    "# Define the MLflow tracking URI\n",
    "MLFLOW_TRACKING_URI = \"sqlite:///mlflow.db\"\n",
    "client = MlflowClient(tracking_uri=MLFLOW_TRACKING_URI)\n",
    "\n",
    "# Replace with your run ID and model name\n",
    "run_id = 'ec53532a97e74b2eb5c4a1eeb6834be2'\n",
    "model_name = 'Random_Forest'\n",
    "\n",
    "# Define the artifact path and local path\n",
    "artifact_path = f\"models/{model_name}\"  # Ensure this matches your actual artifact structure\n",
    "temp_download_path = 'temp_model_download'  # Temporary directory for downloading artifacts\n",
    "final_model_path = 'model.pkl'  # Final destination for the .pkl file\n",
    "\n",
    "# Ensure the temporary download path exists\n",
    "os.makedirs(temp_download_path, exist_ok=True)\n",
    "print(f\"Temporary download path created: {temp_download_path}\")\n",
    "\n",
    "# Print artifact path\n",
    "print(f\"Artifact path: {artifact_path}\")\n",
    "\n",
    "# Download the model artifacts to the temporary directory\n",
    "try:\n",
    "    client.download_artifacts(run_id, artifact_path, temp_download_path)\n",
    "    print(f\"Model artifacts downloaded to {temp_download_path}\")\n",
    "except Exception as e:\n",
    "    print(f\"Failed to download model artifacts: {e}\")\n",
    "    exit(1)\n",
    "\n",
    "# Find and move the .pkl file to the final destination\n",
    "pkl_file_path = None\n",
    "for root, dirs, files in os.walk(temp_download_path):\n",
    "    for file in files:\n",
    "        if file.endswith('.pkl'):\n",
    "            pkl_file_path = os.path.join(root, file)\n",
    "            break\n",
    "    if pkl_file_path:\n",
    "        break\n",
    "\n",
    "if pkl_file_path:\n",
    "    shutil.move(pkl_file_path, final_model_path)\n",
    "    print(f\"Model .pkl file moved to {final_model_path}\")\n",
    "else:\n",
    "    print(\"No .pkl file found in the downloaded artifacts\")\n",
    "\n",
    "# Clean up temporary directory\n",
    "shutil.rmtree(temp_download_path)\n",
    "print(\"Temporary download path cleaned up\")\n",
    "\n"
   ]
  }
 ],
 "metadata": {
  "kernelspec": {
   "display_name": "Python 3 (ipykernel)",
   "language": "python",
   "name": "python3"
  },
  "language_info": {
   "codemirror_mode": {
    "name": "ipython",
    "version": 3
   },
   "file_extension": ".py",
   "mimetype": "text/x-python",
   "name": "python",
   "nbconvert_exporter": "python",
   "pygments_lexer": "ipython3",
   "version": "3.9.12"
  }
 },
 "nbformat": 4,
 "nbformat_minor": 5
}
